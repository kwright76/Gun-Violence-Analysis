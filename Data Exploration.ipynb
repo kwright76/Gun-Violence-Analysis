{
 "cells": [
  {
   "cell_type": "markdown",
   "metadata": {},
   "source": [
    "# Gun Violence Analysis - Data Exploratory\n",
    "**Project Team 3**  \n",
    "Saira Gurung  \n",
    "Rachel Lee  \n",
    "Kyle Wright"
   ]
  },
  {
   "cell_type": "markdown",
   "metadata": {},
   "source": [
    "This project is inspired by an article in [Vox](https://www.vox.com/policy-and-politics/2017/10/2/16399418/us-gun-violence-statistics-maps-charts) on America’s unique gun violence problem, explained in 17 maps and charts. The project is divided into three parts - data exploratory, first version and revised version. \n",
    "  \n",
    "The following analysis is for our data exploratory phase, where we find for datasets and do initial data cleanup and prior analysis to understanding the dataset on the topic of Gun Violence in the United States."
   ]
  },
  {
   "cell_type": "markdown",
   "metadata": {},
   "source": [
    "# Introduction"
   ]
  },
  {
   "cell_type": "markdown",
   "metadata": {},
   "source": [
    "Among developed nations, the US is far and away the most homicidal — in large part due to the easy access many Americans have to firearms."
   ]
  },
  {
   "cell_type": "markdown",
   "metadata": {},
   "source": [
    "# Search for Dataset"
   ]
  },
  {
   "cell_type": "markdown",
   "metadata": {},
   "source": [
    "We were interested in exploring injuries and death trend from gun violence, including accidental, intentional, mass shootings and officer involved shootings. After looking at several datasets available online, we selected one from [Kaggle](https://www.kaggle.com/gunviolencearchive/gun-violence-database) which was taken from [Gun Violence Archive](https://www.gunviolencearchive.org/). Gun Violence Archive is a not-for-profit corporation formed in 2013 that provides free online public access to accurate information about gun-related violence in the United States, compiled from over 2500 law enforcement, media, commercial and government sources daily."
   ]
  },
  {
   "cell_type": "markdown",
   "metadata": {},
   "source": [
    "# Understanding the dataset"
   ]
  },
  {
   "cell_type": "markdown",
   "metadata": {},
   "source": [
    "The data source is comprised of data from a gun violence database that contains gun violence events in the years 2014, 2015, and 2016. In total, we had 14 csv files that were categorized by the type of incident (accidental/intentional/mass shooting/police involvement) as well as by age groups (children/teen/adult).\n",
    "\n",
    "Within each category and age group incidents, the data provides a count of victims killed or injured for each incident. There is also data that shows mass shooting occurences that correspond to one or many of the categorized occurences. The data spans the years of 2014, 2015, and 2016 with state, city/county, and address to match. \n",
    "\n",
    "There are three groups for Age:\n",
    "  - **Children**: Ages 0-11\n",
    "  - **Teens**: Ages 12-17\n",
    "  - **Adults**: Ages 18+\n",
    "\n",
    "Thre are four Categories of incidents:\n",
    "  - **Accidental**: Incidents that were due to playing, negligent handling, unsupervised gun handling\n",
    "  - **Intentional**: Incidents of murder, suicide. Mass Shootings also account towards intentional incidents\n",
    "  - **Officers Involved**: Incidents where police officers were involved (killed, injured, or fired his weapon)\n",
    "  - **Mass Shootings**: Incidents where 4+ victims were injured or killed, excluding the subject/suspect/perpetrator, in one location\n",
    "\n",
    "In each of the files, 1 row represented 1 incident from gun violence for that particular age group and incident type.\n",
    "\n",
    "Each file contained the same data structure with the following columns:\n",
    "\n",
    "    \n",
    "|Column Name|Explanation |\n",
    "|-----------|------------|\n",
    "| Incident Date|The date of the incident|\n",
    "|State|The state in which the incident occurred|\n",
    "|City Or County|The city or county of the state where the incident occured|\n",
    "|Address|The adress of the location the incident occured|\n",
    "|# Killed|The total count of people killed as a result of the incident|\n",
    "|# Injured|The total count of people who were injured as a result of the incident   |\n",
    "|Operations|NaN|\n",
    "  \n",
    "\n",
    "**NOTE**: On the Gun Violence Archive website, the `Operations` column contained links to a report summarizing the incident, which were not included in the exported dataset.\n",
    "\n",
    "We obtained our data set from Kaggle.\n",
    "Data Source: https://www.kaggle.com/gunviolencearchive/gun-violence-database\n",
    "\n",
    "A more updated version (up till 2019) is available on Gun Violence Archive's website.\n",
    "https://www.gunviolencearchive.org/reports\n",
    "\n",
    "Although a more updated dataset is available, we decided to remain with just data from 2014 - 2016 to focus our analysis on these three years."
   ]
  },
  {
   "cell_type": "markdown",
   "metadata": {},
   "source": [
    "<hr/>"
   ]
  },
  {
   "cell_type": "markdown",
   "metadata": {},
   "source": [
    "# Data Exploratory"
   ]
  },
  {
   "cell_type": "markdown",
   "metadata": {},
   "source": [
    "We first begin by importing all the required python packages into notebook for use in our analysis, such as numpy and pandas."
   ]
  },
  {
   "cell_type": "code",
   "execution_count": 1,
   "metadata": {},
   "outputs": [],
   "source": [
    "import numpy as np\n",
    "import pandas as pd\n",
    "import xlrd\n",
    "from functools import reduce\n",
    "\n",
    "import warnings\n",
    "warnings.filterwarnings('ignore')"
   ]
  },
  {
   "cell_type": "markdown",
   "metadata": {},
   "source": [
    "### 1. Load and create columns for each CSV"
   ]
  },
  {
   "cell_type": "markdown",
   "metadata": {},
   "source": [
    "Since our dataset consists of 14 different csv files, we load each of them into a pandas datafram using `pd.read_csv()` and assigning them a category and age group."
   ]
  },
  {
   "cell_type": "markdown",
   "metadata": {},
   "source": [
    "Loading for Accidental deaths of adults CSV."
   ]
  },
  {
   "cell_type": "code",
   "execution_count": 2,
   "metadata": {},
   "outputs": [],
   "source": [
    "df = pd.read_csv('Data/accidental_deaths.csv')"
   ]
  },
  {
   "cell_type": "code",
   "execution_count": 3,
   "metadata": {},
   "outputs": [],
   "source": [
    "df['Category'] = 'Accidental'"
   ]
  },
  {
   "cell_type": "code",
   "execution_count": 4,
   "metadata": {},
   "outputs": [],
   "source": [
    "df['Age'] = 'Adult'"
   ]
  },
  {
   "cell_type": "markdown",
   "metadata": {},
   "source": [
    "Loading for Accidental deaths of children CSV."
   ]
  },
  {
   "cell_type": "code",
   "execution_count": 5,
   "metadata": {},
   "outputs": [],
   "source": [
    "df2 = pd.read_csv('Data/accidental_deaths_children.csv')"
   ]
  },
  {
   "cell_type": "code",
   "execution_count": 6,
   "metadata": {},
   "outputs": [],
   "source": [
    "df2['Category'] = 'Accidental'"
   ]
  },
  {
   "cell_type": "code",
   "execution_count": 7,
   "metadata": {},
   "outputs": [],
   "source": [
    "df2['Age'] = 'Child'"
   ]
  },
  {
   "cell_type": "markdown",
   "metadata": {},
   "source": [
    "Loading for Accidental deaths of teens CSV."
   ]
  },
  {
   "cell_type": "code",
   "execution_count": 8,
   "metadata": {},
   "outputs": [],
   "source": [
    "df3 = pd.read_csv('Data/accidental_deaths_teens.csv')"
   ]
  },
  {
   "cell_type": "code",
   "execution_count": 9,
   "metadata": {},
   "outputs": [],
   "source": [
    "df3['Category'] = 'Accidental'"
   ]
  },
  {
   "cell_type": "code",
   "execution_count": 10,
   "metadata": {},
   "outputs": [],
   "source": [
    "df3['Age'] = 'Teen'"
   ]
  },
  {
   "cell_type": "markdown",
   "metadata": {},
   "source": [
    "Loading for Accidental injuries of adults CSV."
   ]
  },
  {
   "cell_type": "code",
   "execution_count": 11,
   "metadata": {},
   "outputs": [],
   "source": [
    "df4 = pd.read_csv('Data/accidental_injuries.csv')"
   ]
  },
  {
   "cell_type": "code",
   "execution_count": 12,
   "metadata": {},
   "outputs": [],
   "source": [
    "df4['Category'] = 'Accidental'"
   ]
  },
  {
   "cell_type": "code",
   "execution_count": 13,
   "metadata": {},
   "outputs": [],
   "source": [
    "df4['Age'] = 'Adult'"
   ]
  },
  {
   "cell_type": "markdown",
   "metadata": {},
   "source": [
    "Loading for Accidental injuries of children CSV."
   ]
  },
  {
   "cell_type": "code",
   "execution_count": 14,
   "metadata": {},
   "outputs": [],
   "source": [
    "df5 = pd.read_csv('Data/accidental_injuries_children.csv')"
   ]
  },
  {
   "cell_type": "code",
   "execution_count": 15,
   "metadata": {},
   "outputs": [],
   "source": [
    "df5['Category'] = 'Accidental'"
   ]
  },
  {
   "cell_type": "code",
   "execution_count": 16,
   "metadata": {},
   "outputs": [],
   "source": [
    "df5['Age'] = 'Child'"
   ]
  },
  {
   "cell_type": "markdown",
   "metadata": {},
   "source": [
    "Loading for Accidental injuries of teens CSV."
   ]
  },
  {
   "cell_type": "code",
   "execution_count": 17,
   "metadata": {},
   "outputs": [],
   "source": [
    "df6 = pd.read_csv('Data/accidental_injuries_teens.csv')"
   ]
  },
  {
   "cell_type": "code",
   "execution_count": 18,
   "metadata": {},
   "outputs": [],
   "source": [
    "df6['Category'] = 'Accidental'"
   ]
  },
  {
   "cell_type": "code",
   "execution_count": 19,
   "metadata": {},
   "outputs": [],
   "source": [
    "df6['Age'] = 'Teen'"
   ]
  },
  {
   "cell_type": "markdown",
   "metadata": {},
   "source": [
    "Loading for Intentional injuries of children CSV."
   ]
  },
  {
   "cell_type": "code",
   "execution_count": 20,
   "metadata": {},
   "outputs": [],
   "source": [
    "df7 = pd.read_csv('Data/children_injured.csv')"
   ]
  },
  {
   "cell_type": "code",
   "execution_count": 21,
   "metadata": {},
   "outputs": [],
   "source": [
    "df7['Category'] = 'Intentional'"
   ]
  },
  {
   "cell_type": "code",
   "execution_count": 22,
   "metadata": {},
   "outputs": [],
   "source": [
    "df7['Age'] = 'Child'"
   ]
  },
  {
   "cell_type": "markdown",
   "metadata": {},
   "source": [
    "Loading for Intentional deaths of children CSV."
   ]
  },
  {
   "cell_type": "code",
   "execution_count": 23,
   "metadata": {},
   "outputs": [],
   "source": [
    "df8 = pd.read_csv('Data/children_killed.csv')"
   ]
  },
  {
   "cell_type": "code",
   "execution_count": 24,
   "metadata": {},
   "outputs": [],
   "source": [
    "df8['Category'] = 'Intentional'"
   ]
  },
  {
   "cell_type": "code",
   "execution_count": 25,
   "metadata": {},
   "outputs": [],
   "source": [
    "df8['Age'] = 'Child'"
   ]
  },
  {
   "cell_type": "markdown",
   "metadata": {},
   "source": [
    "Below we load all mass shootings dataset. Since the  victims of Mass Shooting incidents are often of mixed age groups, we are unable to determine the exact age group for each record. Hence, we set them to _N/A_."
   ]
  },
  {
   "cell_type": "markdown",
   "metadata": {},
   "source": [
    "Loading for Mass shootings in 2014 CSV."
   ]
  },
  {
   "cell_type": "code",
   "execution_count": 26,
   "metadata": {},
   "outputs": [],
   "source": [
    "df9 = pd.read_csv('Data/mass_shootings_2014.csv')"
   ]
  },
  {
   "cell_type": "code",
   "execution_count": 27,
   "metadata": {},
   "outputs": [],
   "source": [
    "df9['Category'] = 'Mass Shootings'"
   ]
  },
  {
   "cell_type": "code",
   "execution_count": 28,
   "metadata": {},
   "outputs": [],
   "source": [
    "df9['Age'] = 'N/A'"
   ]
  },
  {
   "cell_type": "markdown",
   "metadata": {},
   "source": [
    "Loading for Mass shootings in 2015 CSV."
   ]
  },
  {
   "cell_type": "code",
   "execution_count": 29,
   "metadata": {},
   "outputs": [],
   "source": [
    "df10 = pd.read_csv('Data/mass_shootings_2015.csv')"
   ]
  },
  {
   "cell_type": "code",
   "execution_count": 30,
   "metadata": {},
   "outputs": [],
   "source": [
    "df10['Category'] = 'Mass Shootings'"
   ]
  },
  {
   "cell_type": "code",
   "execution_count": 31,
   "metadata": {},
   "outputs": [],
   "source": [
    "df10['Age'] = 'N/A'"
   ]
  },
  {
   "cell_type": "markdown",
   "metadata": {},
   "source": [
    "Loading for Mass shootings in 2016 CSV."
   ]
  },
  {
   "cell_type": "code",
   "execution_count": 32,
   "metadata": {},
   "outputs": [],
   "source": [
    "df11 = pd.read_csv('Data/mass_shootings_2016.csv')"
   ]
  },
  {
   "cell_type": "code",
   "execution_count": 33,
   "metadata": {},
   "outputs": [],
   "source": [
    "df11['Category'] = 'Mass Shootings'"
   ]
  },
  {
   "cell_type": "code",
   "execution_count": 34,
   "metadata": {},
   "outputs": [],
   "source": [
    "df11['Age'] = 'N/A'"
   ]
  },
  {
   "cell_type": "markdown",
   "metadata": {},
   "source": [
    "Loading for Officers involved CSV."
   ]
  },
  {
   "cell_type": "code",
   "execution_count": 35,
   "metadata": {},
   "outputs": [],
   "source": [
    "df12 = pd.read_csv('Data/officer_involved_shootings.csv')"
   ]
  },
  {
   "cell_type": "code",
   "execution_count": 36,
   "metadata": {},
   "outputs": [],
   "source": [
    "df12['Category'] = 'Police Involvement'"
   ]
  },
  {
   "cell_type": "code",
   "execution_count": 37,
   "metadata": {},
   "outputs": [],
   "source": [
    "df12['Age'] = 'Adult'"
   ]
  },
  {
   "cell_type": "markdown",
   "metadata": {},
   "source": [
    "Loading for Intentional injuries of teens CSV."
   ]
  },
  {
   "cell_type": "code",
   "execution_count": 38,
   "metadata": {},
   "outputs": [],
   "source": [
    "df13 = pd.read_csv('Data/teens_injured.csv')"
   ]
  },
  {
   "cell_type": "code",
   "execution_count": 39,
   "metadata": {},
   "outputs": [],
   "source": [
    "df13['Category'] = 'Intentional'"
   ]
  },
  {
   "cell_type": "code",
   "execution_count": 40,
   "metadata": {},
   "outputs": [],
   "source": [
    "df13['Age'] = 'Teen'"
   ]
  },
  {
   "cell_type": "markdown",
   "metadata": {},
   "source": [
    "Loading for Intentional deaths of teens CSV."
   ]
  },
  {
   "cell_type": "code",
   "execution_count": 41,
   "metadata": {},
   "outputs": [],
   "source": [
    "df14 = pd.read_csv('Data/teens_killed.csv')"
   ]
  },
  {
   "cell_type": "code",
   "execution_count": 42,
   "metadata": {},
   "outputs": [],
   "source": [
    "df14['Category'] = 'Intentional'"
   ]
  },
  {
   "cell_type": "code",
   "execution_count": 43,
   "metadata": {},
   "outputs": [],
   "source": [
    "df14['Age'] = 'Teen'"
   ]
  },
  {
   "cell_type": "markdown",
   "metadata": {},
   "source": [
    "### 2. Combining individual dataframes into one by appending them to the main dataframe"
   ]
  },
  {
   "cell_type": "markdown",
   "metadata": {},
   "source": [
    "We then proceed to cleaning the data and combining all the diffrent dataframes into one dataframe so that all the data sits only in one dataframe, which would simplify further analysis."
   ]
  },
  {
   "cell_type": "markdown",
   "metadata": {},
   "source": [
    "We combine the various dataframes created in the previous step by appending each dataframe into one dataframe."
   ]
  },
  {
   "cell_type": "code",
   "execution_count": 44,
   "metadata": {},
   "outputs": [],
   "source": [
    "dfs = [df,df2,df3,df4,df5,df6,df7,df8,df9,df10,df11,df12,df13,df14]"
   ]
  },
  {
   "cell_type": "code",
   "execution_count": 45,
   "metadata": {},
   "outputs": [],
   "source": [
    "df_merged = reduce(lambda  left,right: left.append(right, sort = False), dfs)"
   ]
  },
  {
   "cell_type": "markdown",
   "metadata": {},
   "source": [
    "### 3. Store combined dataset into a new CSV file"
   ]
  },
  {
   "cell_type": "markdown",
   "metadata": {},
   "source": [
    "Upon merging the datasets, we save it to a new csv file for future analysis."
   ]
  },
  {
   "cell_type": "code",
   "execution_count": 46,
   "metadata": {},
   "outputs": [],
   "source": [
    "df_merged.to_csv('Data/gun_violence.csv')"
   ]
  },
  {
   "cell_type": "markdown",
   "metadata": {},
   "source": [
    "### 4. Verify row length matches after append"
   ]
  },
  {
   "cell_type": "markdown",
   "metadata": {},
   "source": [
    "After we combined the datasets, we want to make sure that no data was lost in the process. We verify this by checking the length of each of the original dataframes and the final combined dataframe."
   ]
  },
  {
   "cell_type": "code",
   "execution_count": 47,
   "metadata": {},
   "outputs": [
    {
     "data": {
      "text/plain": [
       "5457"
      ]
     },
     "execution_count": 47,
     "metadata": {},
     "output_type": "execute_result"
    }
   ],
   "source": [
    "len(df_merged)"
   ]
  },
  {
   "cell_type": "code",
   "execution_count": 48,
   "metadata": {},
   "outputs": [
    {
     "data": {
      "text/plain": [
       "5457"
      ]
     },
     "execution_count": 48,
     "metadata": {},
     "output_type": "execute_result"
    }
   ],
   "source": [
    "len(df)+len(df2)+len(df3)+len(df4)+len(df5)+len(df6)+len(df7)+len(df8)+len(df9)+len(df10)+len(df11)+len(df12)+len(df13)+len(df14)"
   ]
  },
  {
   "cell_type": "markdown",
   "metadata": {},
   "source": [
    "From the above, we can see the the total length for pre-combined and post-combined are the same. Hence, no record was lost."
   ]
  },
  {
   "cell_type": "markdown",
   "metadata": {},
   "source": [
    "# Cleaned data"
   ]
  },
  {
   "cell_type": "markdown",
   "metadata": {},
   "source": [
    "Now that we have all our datasets into one, we begin our analysis. Since our dataset was sufficiently clean, no further data cleaning was required."
   ]
  },
  {
   "cell_type": "markdown",
   "metadata": {},
   "source": [
    "Below is a sample of the cleaned data showing the age and category columns that were added to apply additional details of the data."
   ]
  },
  {
   "cell_type": "code",
   "execution_count": 49,
   "metadata": {},
   "outputs": [
    {
     "data": {
      "text/html": [
       "<div>\n",
       "<style scoped>\n",
       "    .dataframe tbody tr th:only-of-type {\n",
       "        vertical-align: middle;\n",
       "    }\n",
       "\n",
       "    .dataframe tbody tr th {\n",
       "        vertical-align: top;\n",
       "    }\n",
       "\n",
       "    .dataframe thead th {\n",
       "        text-align: right;\n",
       "    }\n",
       "</style>\n",
       "<table border=\"1\" class=\"dataframe\">\n",
       "  <thead>\n",
       "    <tr style=\"text-align: right;\">\n",
       "      <th></th>\n",
       "      <th>Incident Date</th>\n",
       "      <th>State</th>\n",
       "      <th>City Or County</th>\n",
       "      <th>Address</th>\n",
       "      <th># Killed</th>\n",
       "      <th># Injured</th>\n",
       "      <th>Operations</th>\n",
       "      <th>Category</th>\n",
       "      <th>Age</th>\n",
       "    </tr>\n",
       "  </thead>\n",
       "  <tbody>\n",
       "    <tr>\n",
       "      <th>123</th>\n",
       "      <td>September 19, 2016</td>\n",
       "      <td>Missouri</td>\n",
       "      <td>Independence</td>\n",
       "      <td>E. Truman Road and S. Home Avenue</td>\n",
       "      <td>1</td>\n",
       "      <td>0</td>\n",
       "      <td>NaN</td>\n",
       "      <td>Intentional</td>\n",
       "      <td>Teen</td>\n",
       "    </tr>\n",
       "    <tr>\n",
       "      <th>120</th>\n",
       "      <td>December 3, 2015</td>\n",
       "      <td>Texas</td>\n",
       "      <td>Webb (county)</td>\n",
       "      <td>Farm to Market 2050 Rd</td>\n",
       "      <td>1</td>\n",
       "      <td>0</td>\n",
       "      <td>NaN</td>\n",
       "      <td>Accidental</td>\n",
       "      <td>Teen</td>\n",
       "    </tr>\n",
       "    <tr>\n",
       "      <th>128</th>\n",
       "      <td>May 5, 2016</td>\n",
       "      <td>Wisconsin</td>\n",
       "      <td>Milwaukee</td>\n",
       "      <td>North 15th Street and West Meinecke Avenue</td>\n",
       "      <td>1</td>\n",
       "      <td>0</td>\n",
       "      <td>NaN</td>\n",
       "      <td>Intentional</td>\n",
       "      <td>Child</td>\n",
       "    </tr>\n",
       "    <tr>\n",
       "      <th>173</th>\n",
       "      <td>October 25, 2016</td>\n",
       "      <td>Texas</td>\n",
       "      <td>San Antonio</td>\n",
       "      <td>6222 South New Braunfels Avenue</td>\n",
       "      <td>0</td>\n",
       "      <td>1</td>\n",
       "      <td>NaN</td>\n",
       "      <td>Intentional</td>\n",
       "      <td>Teen</td>\n",
       "    </tr>\n",
       "    <tr>\n",
       "      <th>336</th>\n",
       "      <td>March 4, 2016</td>\n",
       "      <td>Ohio</td>\n",
       "      <td>Columbus</td>\n",
       "      <td>Duxberry Avenue</td>\n",
       "      <td>0</td>\n",
       "      <td>1</td>\n",
       "      <td>NaN</td>\n",
       "      <td>Intentional</td>\n",
       "      <td>Child</td>\n",
       "    </tr>\n",
       "    <tr>\n",
       "      <th>214</th>\n",
       "      <td>June 11, 2016</td>\n",
       "      <td>Minnesota</td>\n",
       "      <td>Webster</td>\n",
       "      <td>4000 block of Elmore Avenue</td>\n",
       "      <td>0</td>\n",
       "      <td>4</td>\n",
       "      <td>NaN</td>\n",
       "      <td>Mass Shootings</td>\n",
       "      <td>N/A</td>\n",
       "    </tr>\n",
       "    <tr>\n",
       "      <th>359</th>\n",
       "      <td>August 28, 2016</td>\n",
       "      <td>Georgia</td>\n",
       "      <td>Savannah</td>\n",
       "      <td>1400 block of New Jersey St</td>\n",
       "      <td>0</td>\n",
       "      <td>1</td>\n",
       "      <td>NaN</td>\n",
       "      <td>Accidental</td>\n",
       "      <td>Adult</td>\n",
       "    </tr>\n",
       "    <tr>\n",
       "      <th>269</th>\n",
       "      <td>May 11, 2016</td>\n",
       "      <td>Alabama</td>\n",
       "      <td>Birmingham</td>\n",
       "      <td>1400 block of 21st Street N</td>\n",
       "      <td>1</td>\n",
       "      <td>4</td>\n",
       "      <td>NaN</td>\n",
       "      <td>Intentional</td>\n",
       "      <td>Child</td>\n",
       "    </tr>\n",
       "    <tr>\n",
       "      <th>219</th>\n",
       "      <td>June 9, 2016</td>\n",
       "      <td>Florida</td>\n",
       "      <td>Fort Walton Beach</td>\n",
       "      <td>Landview Drive</td>\n",
       "      <td>0</td>\n",
       "      <td>4</td>\n",
       "      <td>NaN</td>\n",
       "      <td>Mass Shootings</td>\n",
       "      <td>N/A</td>\n",
       "    </tr>\n",
       "    <tr>\n",
       "      <th>192</th>\n",
       "      <td>June 26, 2016</td>\n",
       "      <td>North Carolina</td>\n",
       "      <td>Charlotte</td>\n",
       "      <td>2240 Camp Greene St.</td>\n",
       "      <td>0</td>\n",
       "      <td>5</td>\n",
       "      <td>NaN</td>\n",
       "      <td>Mass Shootings</td>\n",
       "      <td>N/A</td>\n",
       "    </tr>\n",
       "  </tbody>\n",
       "</table>\n",
       "</div>"
      ],
      "text/plain": [
       "          Incident Date           State     City Or County  \\\n",
       "123  September 19, 2016        Missouri       Independence   \n",
       "120    December 3, 2015           Texas      Webb (county)   \n",
       "128         May 5, 2016       Wisconsin          Milwaukee   \n",
       "173    October 25, 2016           Texas        San Antonio   \n",
       "336       March 4, 2016            Ohio           Columbus   \n",
       "214       June 11, 2016       Minnesota            Webster   \n",
       "359     August 28, 2016         Georgia           Savannah   \n",
       "269        May 11, 2016         Alabama         Birmingham   \n",
       "219        June 9, 2016         Florida  Fort Walton Beach   \n",
       "192       June 26, 2016  North Carolina          Charlotte   \n",
       "\n",
       "                                        Address  # Killed  # Injured  \\\n",
       "123           E. Truman Road and S. Home Avenue         1          0   \n",
       "120                      Farm to Market 2050 Rd         1          0   \n",
       "128  North 15th Street and West Meinecke Avenue         1          0   \n",
       "173             6222 South New Braunfels Avenue         0          1   \n",
       "336                             Duxberry Avenue         0          1   \n",
       "214                 4000 block of Elmore Avenue         0          4   \n",
       "359                 1400 block of New Jersey St         0          1   \n",
       "269                 1400 block of 21st Street N         1          4   \n",
       "219                              Landview Drive         0          4   \n",
       "192                        2240 Camp Greene St.         0          5   \n",
       "\n",
       "     Operations        Category    Age  \n",
       "123         NaN     Intentional   Teen  \n",
       "120         NaN      Accidental   Teen  \n",
       "128         NaN     Intentional  Child  \n",
       "173         NaN     Intentional   Teen  \n",
       "336         NaN     Intentional  Child  \n",
       "214         NaN  Mass Shootings    N/A  \n",
       "359         NaN      Accidental  Adult  \n",
       "269         NaN     Intentional  Child  \n",
       "219         NaN  Mass Shootings    N/A  \n",
       "192         NaN  Mass Shootings    N/A  "
      ]
     },
     "execution_count": 49,
     "metadata": {},
     "output_type": "execute_result"
    }
   ],
   "source": [
    "df_merged.sample(10)"
   ]
  },
  {
   "cell_type": "markdown",
   "metadata": {},
   "source": [
    "Before we begin our analysis, we first seek to understand the spread of our data for each of the individual files that we have."
   ]
  },
  {
   "cell_type": "markdown",
   "metadata": {},
   "source": [
    "Checking to see the count of values in each column."
   ]
  },
  {
   "cell_type": "code",
   "execution_count": 50,
   "metadata": {},
   "outputs": [
    {
     "data": {
      "text/plain": [
       "Incident Date     5457\n",
       "State             5457\n",
       "City Or County    5457\n",
       "Address           5127\n",
       "# Killed          5457\n",
       "# Injured         5457\n",
       "Operations           0\n",
       "Category          5457\n",
       "Age               5457\n",
       "dtype: int64"
      ]
     },
     "execution_count": 50,
     "metadata": {},
     "output_type": "execute_result"
    }
   ],
   "source": [
    "df_merged.count()"
   ]
  },
  {
   "cell_type": "markdown",
   "metadata": {},
   "source": [
    "Checking to see the spread of the data."
   ]
  },
  {
   "cell_type": "code",
   "execution_count": 51,
   "metadata": {},
   "outputs": [
    {
     "data": {
      "text/html": [
       "<div>\n",
       "<style scoped>\n",
       "    .dataframe tbody tr th:only-of-type {\n",
       "        vertical-align: middle;\n",
       "    }\n",
       "\n",
       "    .dataframe tbody tr th {\n",
       "        vertical-align: top;\n",
       "    }\n",
       "\n",
       "    .dataframe thead th {\n",
       "        text-align: right;\n",
       "    }\n",
       "</style>\n",
       "<table border=\"1\" class=\"dataframe\">\n",
       "  <thead>\n",
       "    <tr style=\"text-align: right;\">\n",
       "      <th></th>\n",
       "      <th># Killed</th>\n",
       "      <th># Injured</th>\n",
       "      <th>Operations</th>\n",
       "    </tr>\n",
       "  </thead>\n",
       "  <tbody>\n",
       "    <tr>\n",
       "      <th>count</th>\n",
       "      <td>5457.000000</td>\n",
       "      <td>5457.000000</td>\n",
       "      <td>0.0</td>\n",
       "    </tr>\n",
       "    <tr>\n",
       "      <th>mean</th>\n",
       "      <td>0.673630</td>\n",
       "      <td>1.328935</td>\n",
       "      <td>NaN</td>\n",
       "    </tr>\n",
       "    <tr>\n",
       "      <th>std</th>\n",
       "      <td>1.183939</td>\n",
       "      <td>1.846202</td>\n",
       "      <td>NaN</td>\n",
       "    </tr>\n",
       "    <tr>\n",
       "      <th>min</th>\n",
       "      <td>0.000000</td>\n",
       "      <td>0.000000</td>\n",
       "      <td>NaN</td>\n",
       "    </tr>\n",
       "    <tr>\n",
       "      <th>25%</th>\n",
       "      <td>0.000000</td>\n",
       "      <td>0.000000</td>\n",
       "      <td>NaN</td>\n",
       "    </tr>\n",
       "    <tr>\n",
       "      <th>50%</th>\n",
       "      <td>0.000000</td>\n",
       "      <td>1.000000</td>\n",
       "      <td>NaN</td>\n",
       "    </tr>\n",
       "    <tr>\n",
       "      <th>75%</th>\n",
       "      <td>1.000000</td>\n",
       "      <td>1.000000</td>\n",
       "      <td>NaN</td>\n",
       "    </tr>\n",
       "    <tr>\n",
       "      <th>max</th>\n",
       "      <td>50.000000</td>\n",
       "      <td>53.000000</td>\n",
       "      <td>NaN</td>\n",
       "    </tr>\n",
       "  </tbody>\n",
       "</table>\n",
       "</div>"
      ],
      "text/plain": [
       "          # Killed    # Injured  Operations\n",
       "count  5457.000000  5457.000000         0.0\n",
       "mean      0.673630     1.328935         NaN\n",
       "std       1.183939     1.846202         NaN\n",
       "min       0.000000     0.000000         NaN\n",
       "25%       0.000000     0.000000         NaN\n",
       "50%       0.000000     1.000000         NaN\n",
       "75%       1.000000     1.000000         NaN\n",
       "max      50.000000    53.000000         NaN"
      ]
     },
     "execution_count": 51,
     "metadata": {},
     "output_type": "execute_result"
    }
   ],
   "source": [
    "df_merged.describe()"
   ]
  },
  {
   "cell_type": "markdown",
   "metadata": {},
   "source": [
    "Checking to see if there are any columns that contain null values."
   ]
  },
  {
   "cell_type": "code",
   "execution_count": 52,
   "metadata": {},
   "outputs": [
    {
     "data": {
      "text/plain": [
       "Incident Date     False\n",
       "State             False\n",
       "City Or County    False\n",
       "Address           False\n",
       "# Killed          False\n",
       "# Injured         False\n",
       "Operations        False\n",
       "Category          False\n",
       "Age               False\n",
       "dtype: bool"
      ]
     },
     "execution_count": 52,
     "metadata": {},
     "output_type": "execute_result"
    }
   ],
   "source": [
    "df.any().isna()"
   ]
  },
  {
   "cell_type": "markdown",
   "metadata": {},
   "source": [
    "# Limitations\n",
    "1.  Data Duplication\n",
    "    - Mass shootings has an accompanying row that explains the datails of the event.\n",
    "    - We have to filter # killed and # injured in our viz to avoid duplicates when showing full pictures of the data so our data is not over stated."
   ]
  },
  {
   "cell_type": "code",
   "execution_count": 53,
   "metadata": {
    "scrolled": true
   },
   "outputs": [
    {
     "data": {
      "text/html": [
       "<div>\n",
       "<style scoped>\n",
       "    .dataframe tbody tr th:only-of-type {\n",
       "        vertical-align: middle;\n",
       "    }\n",
       "\n",
       "    .dataframe tbody tr th {\n",
       "        vertical-align: top;\n",
       "    }\n",
       "\n",
       "    .dataframe thead th {\n",
       "        text-align: right;\n",
       "    }\n",
       "</style>\n",
       "<table border=\"1\" class=\"dataframe\">\n",
       "  <thead>\n",
       "    <tr style=\"text-align: right;\">\n",
       "      <th></th>\n",
       "      <th>Incident Date</th>\n",
       "      <th>State</th>\n",
       "      <th>City Or County</th>\n",
       "      <th>Address</th>\n",
       "      <th># Killed</th>\n",
       "      <th># Injured</th>\n",
       "      <th>Operations</th>\n",
       "      <th>Category</th>\n",
       "      <th>Age</th>\n",
       "    </tr>\n",
       "  </thead>\n",
       "  <tbody>\n",
       "    <tr>\n",
       "      <th>31</th>\n",
       "      <td>November 22, 2015</td>\n",
       "      <td>Louisiana</td>\n",
       "      <td>New Orleans</td>\n",
       "      <td>1900 block of Gallier Street</td>\n",
       "      <td>0</td>\n",
       "      <td>17</td>\n",
       "      <td>NaN</td>\n",
       "      <td>Mass Shootings</td>\n",
       "      <td>N/A</td>\n",
       "    </tr>\n",
       "  </tbody>\n",
       "</table>\n",
       "</div>"
      ],
      "text/plain": [
       "        Incident Date      State City Or County                       Address  \\\n",
       "31  November 22, 2015  Louisiana    New Orleans  1900 block of Gallier Street   \n",
       "\n",
       "    # Killed  # Injured  Operations        Category  Age  \n",
       "31         0         17         NaN  Mass Shootings  N/A  "
      ]
     },
     "execution_count": 53,
     "metadata": {},
     "output_type": "execute_result"
    }
   ],
   "source": [
    "df_merged[(df_merged['City Or County'] == 'New Orleans') & (df_merged['Category'] == 'Mass Shootings')\n",
    "         & (df_merged['# Injured'] == 17)]"
   ]
  },
  {
   "cell_type": "code",
   "execution_count": 54,
   "metadata": {},
   "outputs": [
    {
     "data": {
      "text/html": [
       "<div>\n",
       "<style scoped>\n",
       "    .dataframe tbody tr th:only-of-type {\n",
       "        vertical-align: middle;\n",
       "    }\n",
       "\n",
       "    .dataframe tbody tr th {\n",
       "        vertical-align: top;\n",
       "    }\n",
       "\n",
       "    .dataframe thead th {\n",
       "        text-align: right;\n",
       "    }\n",
       "</style>\n",
       "<table border=\"1\" class=\"dataframe\">\n",
       "  <thead>\n",
       "    <tr style=\"text-align: right;\">\n",
       "      <th></th>\n",
       "      <th>Incident Date</th>\n",
       "      <th>State</th>\n",
       "      <th>City Or County</th>\n",
       "      <th>Address</th>\n",
       "      <th># Killed</th>\n",
       "      <th># Injured</th>\n",
       "      <th>Operations</th>\n",
       "      <th>Category</th>\n",
       "      <th>Age</th>\n",
       "    </tr>\n",
       "  </thead>\n",
       "  <tbody>\n",
       "    <tr>\n",
       "      <th>438</th>\n",
       "      <td>November 22, 2015</td>\n",
       "      <td>Louisiana</td>\n",
       "      <td>New Orleans</td>\n",
       "      <td>1900 block of Gallier Street</td>\n",
       "      <td>0</td>\n",
       "      <td>17</td>\n",
       "      <td>NaN</td>\n",
       "      <td>Intentional</td>\n",
       "      <td>Child</td>\n",
       "    </tr>\n",
       "    <tr>\n",
       "      <th>31</th>\n",
       "      <td>November 22, 2015</td>\n",
       "      <td>Louisiana</td>\n",
       "      <td>New Orleans</td>\n",
       "      <td>1900 block of Gallier Street</td>\n",
       "      <td>0</td>\n",
       "      <td>17</td>\n",
       "      <td>NaN</td>\n",
       "      <td>Mass Shootings</td>\n",
       "      <td>N/A</td>\n",
       "    </tr>\n",
       "  </tbody>\n",
       "</table>\n",
       "</div>"
      ],
      "text/plain": [
       "         Incident Date      State City Or County  \\\n",
       "438  November 22, 2015  Louisiana    New Orleans   \n",
       "31   November 22, 2015  Louisiana    New Orleans   \n",
       "\n",
       "                          Address  # Killed  # Injured  Operations  \\\n",
       "438  1900 block of Gallier Street         0         17         NaN   \n",
       "31   1900 block of Gallier Street         0         17         NaN   \n",
       "\n",
       "           Category    Age  \n",
       "438     Intentional  Child  \n",
       "31   Mass Shootings    N/A  "
      ]
     },
     "execution_count": 54,
     "metadata": {},
     "output_type": "execute_result"
    }
   ],
   "source": [
    "df_merged[(df_merged['Incident Date'] == 'November 22, 2015') & (df_merged['# Injured'] == 17)]"
   ]
  },
  {
   "cell_type": "markdown",
   "metadata": {},
   "source": [
    "**2. Missing Data**\n",
    "- The operations column in the original data set contains a link to the incident report and source that shows criminal profiles, weapons involved, and description of incident. Therefore, our data is limited to the exclusion of this information.\n",
    "- As shown below, the Operations column shows null"
   ]
  },
  {
   "cell_type": "code",
   "execution_count": 55,
   "metadata": {},
   "outputs": [
    {
     "data": {
      "text/plain": [
       "array([nan])"
      ]
     },
     "execution_count": 55,
     "metadata": {},
     "output_type": "execute_result"
    }
   ],
   "source": [
    "df_merged.Operations.unique()"
   ]
  },
  {
   "cell_type": "markdown",
   "metadata": {},
   "source": [
    "**3. Officers involved data is laciking detail**  \n",
    "\n",
    "- Data only states if the officer participated in the occurence, but it does not show what his exact involvement was. For instance the data does not mention if the officer was injured, killed, or if the officer did the injuring or killing.\n",
    "- Our data does not describe the person who committed the act of gun violence (i.e. child, police officer, gang member)"
   ]
  },
  {
   "cell_type": "code",
   "execution_count": 56,
   "metadata": {},
   "outputs": [
    {
     "data": {
      "text/html": [
       "<div>\n",
       "<style scoped>\n",
       "    .dataframe tbody tr th:only-of-type {\n",
       "        vertical-align: middle;\n",
       "    }\n",
       "\n",
       "    .dataframe tbody tr th {\n",
       "        vertical-align: top;\n",
       "    }\n",
       "\n",
       "    .dataframe thead th {\n",
       "        text-align: right;\n",
       "    }\n",
       "</style>\n",
       "<table border=\"1\" class=\"dataframe\">\n",
       "  <thead>\n",
       "    <tr style=\"text-align: right;\">\n",
       "      <th></th>\n",
       "      <th>Incident Date</th>\n",
       "      <th>State</th>\n",
       "      <th>City Or County</th>\n",
       "      <th>Address</th>\n",
       "      <th># Killed</th>\n",
       "      <th># Injured</th>\n",
       "      <th>Operations</th>\n",
       "      <th>Category</th>\n",
       "      <th>Age</th>\n",
       "    </tr>\n",
       "  </thead>\n",
       "  <tbody>\n",
       "    <tr>\n",
       "      <th>153</th>\n",
       "      <td>July 17, 2016</td>\n",
       "      <td>Texas</td>\n",
       "      <td>Houston</td>\n",
       "      <td>6610 Tidwell</td>\n",
       "      <td>1</td>\n",
       "      <td>3</td>\n",
       "      <td>NaN</td>\n",
       "      <td>Mass Shootings</td>\n",
       "      <td>N/A</td>\n",
       "    </tr>\n",
       "    <tr>\n",
       "      <th>154</th>\n",
       "      <td>July 17, 2016</td>\n",
       "      <td>Louisiana</td>\n",
       "      <td>Baton Rouge</td>\n",
       "      <td>9611 Airline Highway</td>\n",
       "      <td>4</td>\n",
       "      <td>3</td>\n",
       "      <td>NaN</td>\n",
       "      <td>Mass Shootings</td>\n",
       "      <td>N/A</td>\n",
       "    </tr>\n",
       "    <tr>\n",
       "      <th>22</th>\n",
       "      <td>July 17, 2016</td>\n",
       "      <td>Louisiana</td>\n",
       "      <td>Baton Rouge</td>\n",
       "      <td>9611 Airline Highway</td>\n",
       "      <td>4</td>\n",
       "      <td>3</td>\n",
       "      <td>NaN</td>\n",
       "      <td>Police Involvement</td>\n",
       "      <td>Adult</td>\n",
       "    </tr>\n",
       "  </tbody>\n",
       "</table>\n",
       "</div>"
      ],
      "text/plain": [
       "     Incident Date      State City Or County               Address  # Killed  \\\n",
       "153  July 17, 2016      Texas        Houston          6610 Tidwell         1   \n",
       "154  July 17, 2016  Louisiana    Baton Rouge  9611 Airline Highway         4   \n",
       "22   July 17, 2016  Louisiana    Baton Rouge  9611 Airline Highway         4   \n",
       "\n",
       "     # Injured  Operations            Category    Age  \n",
       "153          3         NaN      Mass Shootings    N/A  \n",
       "154          3         NaN      Mass Shootings    N/A  \n",
       "22           3         NaN  Police Involvement  Adult  "
      ]
     },
     "execution_count": 56,
     "metadata": {},
     "output_type": "execute_result"
    }
   ],
   "source": [
    "df_merged[(df_merged['Incident Date'] == 'July 17, 2016') & (df_merged['# Injured'] == 3)]"
   ]
  },
  {
   "cell_type": "markdown",
   "metadata": {},
   "source": [
    "**4. The data is missing intentional adult injuries and deaths**  \n",
    "   This shows that only child and teen are available in the Intentional category"
   ]
  },
  {
   "cell_type": "code",
   "execution_count": 57,
   "metadata": {},
   "outputs": [
    {
     "data": {
      "text/plain": [
       "array(['Child', 'Teen'], dtype=object)"
      ]
     },
     "execution_count": 57,
     "metadata": {},
     "output_type": "execute_result"
    }
   ],
   "source": [
    "df_merged[df_merged.Category == 'Intentional'].Age.unique()"
   ]
  },
  {
   "cell_type": "markdown",
   "metadata": {},
   "source": [
    "**5. Although and address of where the incident took place is given, it does not indicate if it was in the victim's house or a public area.**  \n",
    "More effort or data is required to obtain this information. Hence, we are unable to validate if gun crimes occur more in the home or outside."
   ]
  },
  {
   "cell_type": "markdown",
   "metadata": {},
   "source": [
    "# How we plan to use the data.\n",
    "We plan to evaluate three potential analyses\n",
    "1. Is there a correlation between Police involvement and crimes also involving children and teens?\n",
    "2. Is there seasonality to gun violence?\n",
    "3. Frequency of police involvement in acts of gun violence?"
   ]
  }
 ],
 "metadata": {
  "kernelspec": {
   "display_name": "Python 3",
   "language": "python",
   "name": "python3"
  },
  "language_info": {
   "codemirror_mode": {
    "name": "ipython",
    "version": 3
   },
   "file_extension": ".py",
   "mimetype": "text/x-python",
   "name": "python",
   "nbconvert_exporter": "python",
   "pygments_lexer": "ipython3",
   "version": "3.6.5"
  }
 },
 "nbformat": 4,
 "nbformat_minor": 2
}
